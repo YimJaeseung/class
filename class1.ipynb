{
  "nbformat": 4,
  "nbformat_minor": 0,
  "metadata": {
    "colab": {
      "private_outputs": true,
      "provenance": [],
      "authorship_tag": "ABX9TyP4Z2nBqnxn1Zijigwg7CpH",
      "include_colab_link": true
    },
    "kernelspec": {
      "name": "python3",
      "display_name": "Python 3"
    },
    "language_info": {
      "name": "python"
    }
  },
  "cells": [
    {
      "cell_type": "markdown",
      "metadata": {
        "id": "view-in-github",
        "colab_type": "text"
      },
      "source": [
        "<a href=\"https://colab.research.google.com/github/YimJaeseung/class/blob/main/class1.ipynb\" target=\"_parent\"><img src=\"https://colab.research.google.com/assets/colab-badge.svg\" alt=\"Open In Colab\"/></a>"
      ]
    },
    {
      "cell_type": "code",
      "execution_count": null,
      "metadata": {
        "id": "enW_pBCb7JPF"
      },
      "outputs": [],
      "source": []
    },
    {
      "cell_type": "markdown",
      "source": [
        "#설명\n",
        "\n",
        "자잘한 설명들\n",
        "* 하나\n",
        "*둘\n",
        "*셋\n",
        "\n",
        "$$\n",
        "f(x) = ax^2 + bx + c\n",
        "\n",
        "$$"
      ],
      "metadata": {
        "id": "zHyo9ST07LeU"
      }
    }
  ]
}

git config --list 

user.name
user.email
